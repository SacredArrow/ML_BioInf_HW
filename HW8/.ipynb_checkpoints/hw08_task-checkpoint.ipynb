{
 "cells": [
  {
   "cell_type": "markdown",
   "metadata": {},
   "source": [
    "# Наивный Байес и спам\n",
    "__Суммарное количество баллов: 10__\n"
   ]
  },
  {
   "cell_type": "code",
   "execution_count": 1,
   "metadata": {},
   "outputs": [],
   "source": [
    "from sklearn.model_selection import train_test_split\n",
    "import numpy as np\n",
    "import pandas\n",
    "import random\n",
    "import matplotlib.pyplot as plt\n",
    "import matplotlib\n",
    "import copy\n",
    "import spacy\n",
    "from nltk.stem.snowball import SnowballStemmer"
   ]
  },
  {
   "cell_type": "code",
   "execution_count": 2,
   "metadata": {},
   "outputs": [],
   "source": [
    "import re\n",
    "def read_dataset(filename):\n",
    "    file = open(filename, encoding=\"utf-8\")\n",
    "    x = []\n",
    "    y = []\n",
    "    for line in file:\n",
    "        cl, sms = re.split(\"^(ham|spam)[\\t\\s]+(.*)$\", line)[1:3]\n",
    "        x.append(sms)\n",
    "        y.append(cl)\n",
    "    return np.array(x, dtype=np.str), np.array(y, dtype=np.str)"
   ]
  },
  {
   "cell_type": "code",
   "execution_count": 3,
   "metadata": {},
   "outputs": [],
   "source": [
    "def get_precision_recall_accuracy(y_pred, y_true):\n",
    "    classes = np.unique(list(y_pred) + list(y_true))\n",
    "    true_positive = dict((c, 0) for c in classes)\n",
    "    true_negative = dict((c, 0) for c in classes)\n",
    "    false_positive = dict((c, 0) for c in classes)\n",
    "    false_negative = dict((c, 0) for c in classes)\n",
    "    for c_pred, c_true in zip(y_pred, y_true):\n",
    "        for c in classes:\n",
    "            if c_true == c:\n",
    "                if c_pred == c_true:\n",
    "                    true_positive[c] = true_positive.get(c, 0) + 1\n",
    "                else:\n",
    "                    false_negative[c] = false_negative.get(c, 0) + 1\n",
    "            else:\n",
    "                if c_pred == c:\n",
    "                    false_positive[c] = false_positive.get(c, 0) + 1\n",
    "                else:\n",
    "                    true_negative[c] = true_negative.get(c, 0) + 1\n",
    "    precision = dict((c, true_positive[c] / (true_positive[c] + false_positive[c])) for c in classes)\n",
    "    recall = dict((c, true_positive[c] / (true_positive[c] + false_negative[c])) for c in classes)\n",
    "    accuracy = sum([true_positive[c] for c in classes]) / len(y_pred)\n",
    "    return precision, recall, accuracy\n",
    "\n",
    "def plot_precision_recall(X_train, y_train, X_test, y_test, bow_method, voc_sizes=range(4, 200, 5)):\n",
    "    classes = np.unique(list(y_train) + list(y_test))\n",
    "    precisions = dict([(c, []) for c in classes])\n",
    "    recalls = dict([(c, []) for c in classes])\n",
    "    accuracies = []\n",
    "    for v in voc_sizes:\n",
    "        bow = bow_method(X_train, voc_limit=v)\n",
    "        X_train_transformed = bow.transform(X_train)\n",
    "        X_test_transformed = bow.transform(X_test)\n",
    "        classifier = NaiveBayes(0.001)\n",
    "        classifier.fit(X_train_transformed, y_train)\n",
    "        y_pred = classifier.predict(X_test_transformed)\n",
    "        precision, recall, acc = get_precision_recall_accuracy(y_pred, y_test)\n",
    "        for c in classes:\n",
    "            precisions[c].append(precision[c])\n",
    "            recalls[c].append(recall[c])\n",
    "        accuracies.append(acc)\n",
    "    def plot(x, ys, ylabel, legend=True):        \n",
    "        plt.figure(figsize = (12, 3))\n",
    "        plt.xlabel(\"Vocabulary size\")\n",
    "        plt.ylabel(ylabel)\n",
    "        plt.xlim(x[0], x[-1])\n",
    "        plt.ylim(np.min(list(ys.values()))-0.01, np.max(list(ys.values()))+0.01)\n",
    "        for c in ys.keys():\n",
    "            plt.plot(x, ys[c], label=\"Class \" + str(c))\n",
    "        if legend:\n",
    "            plt.legend()\n",
    "        plt.tight_layout()\n",
    "        plt.show()\n",
    "    \n",
    "    plot(voc_sizes, recalls, \"Recall\")\n",
    "    plot(voc_sizes, precisions, \"Precision\")\n",
    "    plot(voc_sizes, {\"\":accuracies}, \"Accuracy\", legend=False)"
   ]
  },
  {
   "cell_type": "code",
   "execution_count": 4,
   "metadata": {},
   "outputs": [],
   "source": [
    "X, y = read_dataset(\"spam\")"
   ]
  },
  {
   "cell_type": "code",
   "execution_count": null,
   "metadata": {},
   "outputs": [],
   "source": [
    "X_train, X_test, y_train, y_test = train_test_split(X, y, train_size=0.9)"
   ]
  },
  {
   "cell_type": "markdown",
   "metadata": {},
   "source": [
    "### Задание 1 (3 балла)\n",
    "Реализуйте классификацию методом Байеса в предположении независимости компонент `x`. При реализации следует считать, что значения каждой компоненты дискретны, а `p(x|y)` имеет мультиномиальное распределение.\n",
    "\n",
    "#### Методы\n",
    "`fit(X, y)` - оценивает параметры распределения `p(x|y)` для каждого `y`. \n",
    "\n",
    "`log_proba(X)` - для каждого элемента набора `X` считает логарифм вероятности отнести его к каждому классу. По теореме Байеса: `p(y|x) = p(y)p(x|y)/p(x)`. Соответственно, после логарифмирования: `log p(y|x) = log p(y) + log p(x|y) - log p(x)`. Поскольку `log p(x)` является независящей от класса `y` константой, это слагаемое никак не влияет на решение задачи максимизации. Поэтому его можно просто убрать для простоты."
   ]
  },
  {
   "cell_type": "code",
   "execution_count": null,
   "metadata": {},
   "outputs": [],
   "source": [
    "class NaiveBayes:\n",
    "    def __init__(self, alpha):\n",
    "        self.alpha = alpha # Параметр аддитивной регуляризации\n",
    "    \n",
    "    def fit(self, X, y):\n",
    "        pass\n",
    "        \n",
    "    def predict(self, X):\n",
    "        return [self.classes[i] for i in np.argmax(self.log_proba(X), axis=1)]\n",
    "    \n",
    "    def log_proba(self, X):\n",
    "        return None"
   ]
  },
  {
   "cell_type": "markdown",
   "metadata": {},
   "source": [
    "### Задание 2 (3 балла)\n",
    "Теперь реализуем метод bag of words. Задача состоит в том, чтобы посчитать количество вхождений каждого слова в предложение.\n",
    "\n",
    "#### Методы\n",
    "`__init__(X, voc_limit)` - инициализирует BoW, составляя словарь, который будет использоваться для векторизации предложений. Размер словаря должен быть не больше `voc_limit`, в него должны входить самые часто встречающиеся в выборке слова.\n",
    "\n",
    "`transform(X)` - векторизует сообщения из набора."
   ]
  },
  {
   "cell_type": "code",
   "execution_count": null,
   "metadata": {},
   "outputs": [],
   "source": [
    "class BoW:\n",
    "    def __init__(self, X, voc_limit=1000):\n",
    "        pass\n",
    "        \n",
    "    def transform(self, X):\n",
    "        pass"
   ]
  },
  {
   "cell_type": "code",
   "execution_count": null,
   "metadata": {},
   "outputs": [],
   "source": [
    "bow = BoW(X_train, voc_limit=500)\n",
    "X_train_bow = bow.transform(X_train)\n",
    "X_test_bow = bow.transform(X_test)"
   ]
  },
  {
   "cell_type": "code",
   "execution_count": null,
   "metadata": {},
   "outputs": [],
   "source": [
    "predictor = NaiveBayes(0.001)\n",
    "predictor.fit(X_train_bow, y_train)\n",
    "get_precision_recall_accuracy(predictor.predict(X_test_bow), y_test)"
   ]
  },
  {
   "cell_type": "code",
   "execution_count": null,
   "metadata": {},
   "outputs": [],
   "source": [
    "plot_precision_recall(X_train, y_train, X_test, y_test, BoW)"
   ]
  },
  {
   "cell_type": "markdown",
   "metadata": {},
   "source": [
    "### Задание 3 (2 балла)\n",
    "Теперь добавим в BoW стемминг. Для этого нам понадобится класс SnowballStemmer из пакета `nltk`\n",
    "\n",
    "#### Методы\n",
    "`__init__(X, voc_limit)` - инициализирует BoW, составляя словарь, который будет использоваться для векторизации предложений. Размер словаря должен быть не больше `voc_limit`, в него должны входить самые часто встречающиеся в выборке слова.\n",
    "\n",
    "`transform(X)` - векторизует сообщения из набора."
   ]
  },
  {
   "cell_type": "code",
   "execution_count": null,
   "metadata": {},
   "outputs": [],
   "source": [
    "class BowStem:\n",
    "    def __init__(self, X, voc_limit=1000):\n",
    "        pass\n",
    "        \n",
    "    def transform(self, X):\n",
    "        pass"
   ]
  },
  {
   "cell_type": "code",
   "execution_count": null,
   "metadata": {},
   "outputs": [],
   "source": [
    "bows = BowStem(X_train, voc_limit=500)\n",
    "X_train_bows = bows.transform(X_train)\n",
    "X_test_bows = bows.transform(X_test)"
   ]
  },
  {
   "cell_type": "code",
   "execution_count": null,
   "metadata": {},
   "outputs": [],
   "source": [
    "predictor = NaiveBayes(0.001)\n",
    "predictor.fit(X_train_bows, y_train)\n",
    "get_precision_recall_accuracy(predictor.predict(X_test_bows), y_test)"
   ]
  },
  {
   "cell_type": "code",
   "execution_count": null,
   "metadata": {},
   "outputs": [],
   "source": [
    "plot_precision_recall(X_train, y_train, X_test, y_test, BowStem)"
   ]
  }
 ],
 "metadata": {
  "kernelspec": {
   "display_name": "Python 3",
   "language": "python",
   "name": "python3"
  },
  "language_info": {
   "codemirror_mode": {
    "name": "ipython",
    "version": 3
   },
   "file_extension": ".py",
   "mimetype": "text/x-python",
   "name": "python",
   "nbconvert_exporter": "python",
   "pygments_lexer": "ipython3",
   "version": "3.7.5"
  }
 },
 "nbformat": 4,
 "nbformat_minor": 2
}
