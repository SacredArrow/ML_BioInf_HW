{
 "cells": [
  {
   "cell_type": "markdown",
   "metadata": {},
   "source": [
    "# Нейронные сети\n",
    "__Суммарное количество баллов: 10__\n",
    "\n",
    "В этом домашнем задании можно использовать готовые классы библиотек PyTorch, Keras, TensorFlow."
   ]
  },
  {
   "cell_type": "code",
   "execution_count": 1,
   "metadata": {},
   "outputs": [
    {
     "name": "stderr",
     "output_type": "stream",
     "text": [
      "Using TensorFlow backend.\n"
     ]
    }
   ],
   "source": [
    "import pandas as pd\n",
    "import numpy as np\n",
    "from keras.models import Sequential\n",
    "from keras.layers.core import Dense, Reshape\n",
    "from keras.layers import Conv2D, GlobalMaxPooling2D, BatchNormalization\n",
    "from keras.optimizers import SGD, Adam, Adamax\n",
    "from keras.utils import to_categorical\n",
    "import keras\n",
    "from sklearn.model_selection import train_test_split\n",
    "from sklearn.metrics import classification_report"
   ]
  },
  {
   "cell_type": "markdown",
   "metadata": {},
   "source": [
    "### Задание 1 (4 балла)\n",
    "\n",
    "Создайте сеть из трех сверточных слоев по 8 сверток 3х3 и двух полносвязных слоев по 64 нейрона. \n",
    "\n",
    "Обучите сеть на датасете mnist с тремя разными функциями активации в слоях (sigmoid, tanh, ReLU)."
   ]
  },
  {
   "cell_type": "code",
   "execution_count": 39,
   "metadata": {},
   "outputs": [],
   "source": [
    "df = pd.read_csv(\"./mnist.csv\")\n",
    "labels = df.label\n",
    "data = df.iloc[:,1:]\n",
    "data = np.array(data).reshape(10000, 28, 28, 1)\n",
    "labels = to_categorical(labels)\n",
    "(trainX, testX, trainY, testY) = train_test_split(data,\n",
    "    labels, test_size=0.10)\n",
    "trainX = trainX.astype('float32')\n",
    "testX = testX.astype('float32')\n",
    "trainX /= 255\n",
    "testX /= 255"
   ]
  },
  {
   "cell_type": "code",
   "execution_count": 42,
   "metadata": {},
   "outputs": [],
   "source": [
    "epochs = 10\n",
    "batch_size=64\n",
    "def get_acc_for_activation_f(func):\n",
    "    model = Sequential()\n",
    "    model.add(Conv2D(8, (3,3), input_shape=(28, 28, 1), activation = func))\n",
    "    model.add(Conv2D(8, (3,3), activation = func))\n",
    "    model.add(Conv2D(8, (3,3), activation = func))\n",
    "    model.add(GlobalMaxPooling2D())\n",
    "    model.add(Dense(64, activation=func))\n",
    "    model.add(Dense(64, activation=func))\n",
    "    model.add(Dense(10, activation=\"softmax\"))\n",
    "    \n",
    "    model.compile(loss=\"categorical_crossentropy\", optimizer=\"adam\",\n",
    "        metrics=[\"accuracy\"])\n",
    "    H = model.fit(trainX, trainY, validation_data=(testX, testY),\n",
    "    epochs=epochs, batch_size = batch_size)\n",
    "    score = model.evaluate(testX, testY, batch_size = batch_size)\n",
    "    return(score[1])"
   ]
  },
  {
   "cell_type": "code",
   "execution_count": 43,
   "metadata": {},
   "outputs": [
    {
     "name": "stdout",
     "output_type": "stream",
     "text": [
      "Train on 9000 samples, validate on 1000 samples\n",
      "Epoch 1/10\n",
      "9000/9000 [==============================] - 4s 454us/step - loss: 2.1893 - accuracy: 0.2199 - val_loss: 1.9301 - val_accuracy: 0.3090\n",
      "Epoch 2/10\n",
      "9000/9000 [==============================] - 4s 417us/step - loss: 1.7468 - accuracy: 0.3970 - val_loss: 1.5585 - val_accuracy: 0.4710\n",
      "Epoch 3/10\n",
      "9000/9000 [==============================] - 4s 410us/step - loss: 1.4526 - accuracy: 0.4997 - val_loss: 1.3544 - val_accuracy: 0.5460\n",
      "Epoch 4/10\n",
      "9000/9000 [==============================] - 4s 417us/step - loss: 1.2996 - accuracy: 0.5551 - val_loss: 1.2446 - val_accuracy: 0.5790\n",
      "Epoch 5/10\n",
      "9000/9000 [==============================] - 4s 421us/step - loss: 1.2079 - accuracy: 0.5793 - val_loss: 1.1548 - val_accuracy: 0.6140\n",
      "Epoch 6/10\n",
      "9000/9000 [==============================] - 4s 419us/step - loss: 1.1369 - accuracy: 0.6042 - val_loss: 1.0849 - val_accuracy: 0.6280\n",
      "Epoch 7/10\n",
      "9000/9000 [==============================] - 4s 412us/step - loss: 1.0834 - accuracy: 0.6250 - val_loss: 1.0857 - val_accuracy: 0.6220\n",
      "Epoch 8/10\n",
      "9000/9000 [==============================] - 4s 413us/step - loss: 1.0330 - accuracy: 0.6391 - val_loss: 1.0227 - val_accuracy: 0.6410\n",
      "Epoch 9/10\n",
      "9000/9000 [==============================] - 4s 415us/step - loss: 0.9983 - accuracy: 0.6537 - val_loss: 0.9646 - val_accuracy: 0.6840\n",
      "Epoch 10/10\n",
      "9000/9000 [==============================] - 4s 429us/step - loss: 0.9455 - accuracy: 0.6732 - val_loss: 0.9470 - val_accuracy: 0.6930\n",
      "1000/1000 [==============================] - 0s 159us/step\n"
     ]
    },
    {
     "data": {
      "text/plain": [
       "0.6930000185966492"
      ]
     },
     "execution_count": 43,
     "metadata": {},
     "output_type": "execute_result"
    }
   ],
   "source": [
    "get_acc_for_activation_f(\"relu\") # Необходимости в большем количестве эпох нет, так как результат перестает меняться"
   ]
  },
  {
   "cell_type": "code",
   "execution_count": 10,
   "metadata": {},
   "outputs": [
    {
     "name": "stdout",
     "output_type": "stream",
     "text": [
      "Train on 9000 samples, validate on 1000 samples\n",
      "Epoch 1/10\n",
      "9000/9000 [==============================] - 4s 418us/step - loss: 1.9526 - accuracy: 0.3106 - val_loss: 1.4125 - val_accuracy: 0.5280\n",
      "Epoch 2/10\n",
      "9000/9000 [==============================] - 3s 383us/step - loss: 1.0860 - accuracy: 0.6581 - val_loss: 0.8447 - val_accuracy: 0.7520\n",
      "Epoch 3/10\n",
      "9000/9000 [==============================] - 3s 380us/step - loss: 0.7209 - accuracy: 0.7791 - val_loss: 0.6778 - val_accuracy: 0.7830\n",
      "Epoch 4/10\n",
      "9000/9000 [==============================] - 4s 392us/step - loss: 0.6067 - accuracy: 0.8139 - val_loss: 0.6003 - val_accuracy: 0.8100\n",
      "Epoch 5/10\n",
      "9000/9000 [==============================] - 4s 390us/step - loss: 0.5438 - accuracy: 0.8339 - val_loss: 0.5469 - val_accuracy: 0.8220\n",
      "Epoch 6/10\n",
      "9000/9000 [==============================] - 4s 400us/step - loss: 0.4951 - accuracy: 0.8461 - val_loss: 0.4857 - val_accuracy: 0.8490\n",
      "Epoch 7/10\n",
      "9000/9000 [==============================] - 4s 390us/step - loss: 0.4669 - accuracy: 0.8592 - val_loss: 0.4386 - val_accuracy: 0.8550\n",
      "Epoch 8/10\n",
      "9000/9000 [==============================] - 4s 413us/step - loss: 0.4479 - accuracy: 0.8630 - val_loss: 0.4214 - val_accuracy: 0.8670\n",
      "Epoch 9/10\n",
      "9000/9000 [==============================] - 4s 393us/step - loss: 0.4239 - accuracy: 0.8692 - val_loss: 0.4017 - val_accuracy: 0.8740\n",
      "Epoch 10/10\n",
      "9000/9000 [==============================] - 4s 392us/step - loss: 0.4145 - accuracy: 0.8734 - val_loss: 0.4096 - val_accuracy: 0.8750\n",
      "1000/1000 [==============================] - 0s 154us/step\n"
     ]
    },
    {
     "data": {
      "text/plain": [
       "0.875"
      ]
     },
     "execution_count": 10,
     "metadata": {},
     "output_type": "execute_result"
    }
   ],
   "source": [
    "get_acc_for_activation_f(\"tanh\")"
   ]
  },
  {
   "cell_type": "code",
   "execution_count": 11,
   "metadata": {},
   "outputs": [
    {
     "name": "stdout",
     "output_type": "stream",
     "text": [
      "Train on 9000 samples, validate on 1000 samples\n",
      "Epoch 1/10\n",
      "9000/9000 [==============================] - 4s 409us/step - loss: 2.3115 - accuracy: 0.1070 - val_loss: 2.3039 - val_accuracy: 0.0950\n",
      "Epoch 2/10\n",
      "9000/9000 [==============================] - 3s 377us/step - loss: 2.3061 - accuracy: 0.1084 - val_loss: 2.3101 - val_accuracy: 0.1060\n",
      "Epoch 3/10\n",
      "9000/9000 [==============================] - 3s 377us/step - loss: 2.3051 - accuracy: 0.1097 - val_loss: 2.3027 - val_accuracy: 0.1010\n",
      "Epoch 4/10\n",
      "9000/9000 [==============================] - 3s 382us/step - loss: 2.3053 - accuracy: 0.1062 - val_loss: 2.3090 - val_accuracy: 0.1060\n",
      "Epoch 5/10\n",
      "9000/9000 [==============================] - 3s 382us/step - loss: 2.3072 - accuracy: 0.1081 - val_loss: 2.3022 - val_accuracy: 0.1010\n",
      "Epoch 6/10\n",
      "9000/9000 [==============================] - 3s 388us/step - loss: 2.3069 - accuracy: 0.1026 - val_loss: 2.3027 - val_accuracy: 0.1010\n",
      "Epoch 7/10\n",
      "9000/9000 [==============================] - 3s 388us/step - loss: 2.3051 - accuracy: 0.1134 - val_loss: 2.3088 - val_accuracy: 0.0950\n",
      "Epoch 8/10\n",
      "9000/9000 [==============================] - 4s 399us/step - loss: 2.3054 - accuracy: 0.1074 - val_loss: 2.2998 - val_accuracy: 0.1060\n",
      "Epoch 9/10\n",
      "9000/9000 [==============================] - 4s 395us/step - loss: 2.3035 - accuracy: 0.1138 - val_loss: 2.2994 - val_accuracy: 0.1160\n",
      "Epoch 10/10\n",
      "9000/9000 [==============================] - 4s 412us/step - loss: 2.3023 - accuracy: 0.1118 - val_loss: 2.2978 - val_accuracy: 0.1190\n",
      "1000/1000 [==============================] - 0s 153us/step\n"
     ]
    },
    {
     "data": {
      "text/plain": [
       "0.11900000274181366"
      ]
     },
     "execution_count": 11,
     "metadata": {},
     "output_type": "execute_result"
    }
   ],
   "source": [
    "get_acc_for_activation_f(\"sigmoid\")"
   ]
  },
  {
   "cell_type": "markdown",
   "metadata": {},
   "source": [
    "### Задание 2 (6 баллов)\n",
    "\n",
    "Достигните точности 87% на test датасете notMNIST.\n",
    "\n",
    "Архитектура сети может быть любая. Можно использовать Data Augmentation."
   ]
  },
  {
   "cell_type": "code",
   "execution_count": 24,
   "metadata": {},
   "outputs": [],
   "source": [
    "import cv2\n",
    "from imutils import paths\n",
    "from sklearn.preprocessing import LabelBinarizer\n",
    "from keras.layers import Input, Dropout, MaxPooling2D, Flatten\n",
    "from keras.models import Model"
   ]
  },
  {
   "cell_type": "code",
   "execution_count": 20,
   "metadata": {},
   "outputs": [],
   "source": [
    "images = []\n",
    "labels = []\n",
    "imagePaths = sorted(list(paths.list_images(\"./notMNIST_small/\")))\n",
    "for path in imagePaths:\n",
    "    image = cv2.imread(path)\n",
    "    if image is not None:\n",
    "        images.append(image)\n",
    "        label = path.split(\"/\")[-2]\n",
    "        labels.append(label)\n",
    "images = np.array(images).reshape(-1,28,28,3)\n",
    "labels = np.array(labels)\n",
    "(trainX, testX, trainY, testY) = train_test_split(images,\n",
    "    labels, test_size=0.20, random_state=42)\n",
    "lb = LabelBinarizer()\n",
    "trainY = lb.fit_transform(trainY)\n",
    "testY = lb.transform(testY)"
   ]
  },
  {
   "cell_type": "code",
   "execution_count": 32,
   "metadata": {},
   "outputs": [],
   "source": [
    "def notmnist(act_func):\n",
    "    shape = trainX[0].shape\n",
    "    img_in = Input(shape=shape)\n",
    "    x = Dropout(0.2)(img_in)\n",
    "\n",
    "    x = Conv2D(16, (3,3), activation=act_func)(x)\n",
    "    x = Conv2D(32, (3,3), activation=act_func)(x)\n",
    "    x = MaxPooling2D((2,2))(x)\n",
    "    x = Dropout(0.5)(x)\n",
    "\n",
    "    x = Conv2D(32, (3,3), activation=act_func)(x)\n",
    "    x = Conv2D(64, (3,3),activation=act_func)(x)\n",
    "    x = MaxPooling2D((2,2))(x)\n",
    "    x = Dropout(0.5)(x)\n",
    "\n",
    "    x = Flatten()(x)\n",
    "    x = Dense(128, activation=act_func)(x)\n",
    "    x = Dropout(0.5)(x)\n",
    "    x = Dense(128, activation=act_func)(x)\n",
    "    x = Dropout(0.5)(x)\n",
    "\n",
    "    output = Dense(10, activation='softmax')(x)\n",
    "\n",
    "    model = Model(img_in, output)\n",
    "    model.compile(optimizer='adamax',\n",
    "                  loss='categorical_crossentropy',\n",
    "                  metrics=['accuracy'])\n",
    "    model.fit(trainX, trainY,\n",
    "              epochs=15, batch_size=64,\n",
    "              validation_data=[testX, testY])\n",
    "    score = model.evaluate(testX, testY)\n",
    "    return score[1]"
   ]
  },
  {
   "cell_type": "code",
   "execution_count": 33,
   "metadata": {},
   "outputs": [
    {
     "name": "stdout",
     "output_type": "stream",
     "text": [
      "Train on 14979 samples, validate on 3745 samples\n",
      "Epoch 1/15\n",
      "14979/14979 [==============================] - 19s 1ms/step - loss: 8.2957 - accuracy: 0.1244 - val_loss: 2.1819 - val_accuracy: 0.1770\n",
      "Epoch 2/15\n",
      "14979/14979 [==============================] - 17s 1ms/step - loss: 3.9363 - accuracy: 0.1309 - val_loss: 2.1244 - val_accuracy: 0.2214\n",
      "Epoch 3/15\n",
      "14979/14979 [==============================] - 17s 1ms/step - loss: 3.4694 - accuracy: 0.1616 - val_loss: 1.9768 - val_accuracy: 0.2881\n",
      "Epoch 4/15\n",
      "14979/14979 [==============================] - 19s 1ms/step - loss: 3.1989 - accuracy: 0.1987 - val_loss: 1.7432 - val_accuracy: 0.3594\n",
      "Epoch 5/15\n",
      "14979/14979 [==============================] - 18s 1ms/step - loss: 2.9139 - accuracy: 0.2371 - val_loss: 1.5927 - val_accuracy: 0.4270\n",
      "Epoch 6/15\n",
      "14979/14979 [==============================] - 18s 1ms/step - loss: 2.6517 - accuracy: 0.2734 - val_loss: 1.4047 - val_accuracy: 0.5100\n",
      "Epoch 7/15\n",
      "14979/14979 [==============================] - 18s 1ms/step - loss: 2.3882 - accuracy: 0.3247 - val_loss: 1.1928 - val_accuracy: 0.5850\n",
      "Epoch 8/15\n",
      "14979/14979 [==============================] - 21s 1ms/step - loss: 2.0424 - accuracy: 0.4064 - val_loss: 0.9320 - val_accuracy: 0.7172\n",
      "Epoch 9/15\n",
      "14979/14979 [==============================] - 21s 1ms/step - loss: 1.6995 - accuracy: 0.4877 - val_loss: 0.7782 - val_accuracy: 0.7613\n",
      "Epoch 10/15\n",
      "14979/14979 [==============================] - 19s 1ms/step - loss: 1.4195 - accuracy: 0.5757 - val_loss: 0.6228 - val_accuracy: 0.8200\n",
      "Epoch 11/15\n",
      "14979/14979 [==============================] - 18s 1ms/step - loss: 1.2132 - accuracy: 0.6417 - val_loss: 0.5540 - val_accuracy: 0.8558\n",
      "Epoch 12/15\n",
      "14979/14979 [==============================] - 18s 1ms/step - loss: 1.0265 - accuracy: 0.6966 - val_loss: 0.4904 - val_accuracy: 0.8657\n",
      "Epoch 13/15\n",
      "14979/14979 [==============================] - 18s 1ms/step - loss: 0.8931 - accuracy: 0.7393 - val_loss: 0.4507 - val_accuracy: 0.8729\n",
      "Epoch 14/15\n",
      "14979/14979 [==============================] - 17s 1ms/step - loss: 0.7995 - accuracy: 0.7696 - val_loss: 0.4031 - val_accuracy: 0.8860\n",
      "Epoch 15/15\n",
      "14979/14979 [==============================] - 18s 1ms/step - loss: 0.7187 - accuracy: 0.7930 - val_loss: 0.4080 - val_accuracy: 0.8857\n",
      "3745/3745 [==============================] - 2s 403us/step\n"
     ]
    },
    {
     "data": {
      "text/plain": [
       "0.8857142925262451"
      ]
     },
     "execution_count": 33,
     "metadata": {},
     "output_type": "execute_result"
    }
   ],
   "source": [
    "notmnist(\"selu\")"
   ]
  },
  {
   "cell_type": "code",
   "execution_count": null,
   "metadata": {},
   "outputs": [],
   "source": []
  }
 ],
 "metadata": {
  "kernelspec": {
   "display_name": "Python 3",
   "language": "python",
   "name": "python3"
  },
  "language_info": {
   "codemirror_mode": {
    "name": "ipython",
    "version": 3
   },
   "file_extension": ".py",
   "mimetype": "text/x-python",
   "name": "python",
   "nbconvert_exporter": "python",
   "pygments_lexer": "ipython3",
   "version": "3.7.5"
  }
 },
 "nbformat": 4,
 "nbformat_minor": 2
}
